{
  "nbformat": 4,
  "nbformat_minor": 0,
  "metadata": {
    "colab": {
      "name": "IESTI01 - Breath Sound Classificator Dataset Preparation.ipynb",
      "provenance": [],
      "collapsed_sections": []
    },
    "kernelspec": {
      "name": "python3",
      "display_name": "Python 3"
    },
    "language_info": {
      "name": "python"
    }
  },
  "cells": [
    {
      "cell_type": "code",
      "execution_count": null,
      "metadata": {
        "id": "VBejL_s5MZyW"
      },
      "outputs": [],
      "source": [
        "!pip install ffmpeg"
      ]
    },
    {
      "cell_type": "code",
      "source": [
        "import numpy as np\n",
        "import pandas as pd\n",
        "import librosa\n",
        "import matplotlib.pyplot as plt\n",
        "from scipy.io import wavfile\n",
        "import soundfile\n",
        "import ffmpeg\n",
        "import librosa\n",
        "import os"
      ],
      "metadata": {
        "id": "nIBH0P2uMfKw"
      },
      "execution_count": 2,
      "outputs": []
    },
    {
      "cell_type": "code",
      "source": [
        "def sr_converter(base_dir):\n",
        "  for files in os.listdir(base_dir):\n",
        "      if os.path.isfile(os.path.join(base_dir, files)):\n",
        "          pathname = base_dir + files       # gets the file path in a string\n",
        "          y, sr = librosa.load(pathname)\n",
        "          resample = librosa.resample(y, orig_sr=sr, target_sr=16000) # resamples .wav file to 16kHz\n",
        "          soundfile.write(pathname, resample, 16000, subtype='PCM_16') # overwrites the old file with the resampled one"
      ],
      "metadata": {
        "id": "WhJtIwpmP1Mu"
      },
      "execution_count": 3,
      "outputs": []
    },
    {
      "cell_type": "code",
      "source": [
        "# Directory for the two parts of the dataset\n",
        "base_dir_healthy = '/content/Healthy/'\n",
        "base_dir_COPD = '/content/COPD/'"
      ],
      "metadata": {
        "id": "yry1GAhbQz1w"
      },
      "execution_count": 4,
      "outputs": []
    },
    {
      "cell_type": "code",
      "source": [
        "# Converting the sr\n",
        "sr_converter(base_dir_healthy)\n",
        "sr_converter(base_dir_COPD)"
      ],
      "metadata": {
        "id": "c41Lf_EUQ7mF"
      },
      "execution_count": 5,
      "outputs": []
    },
    {
      "cell_type": "code",
      "source": [
        "# Creating a Zip file to be able to download: \n",
        "!zip -r /content/file_copd.zip /content/COPD"
      ],
      "metadata": {
        "id": "sSbAycnvQ_N1"
      },
      "execution_count": null,
      "outputs": []
    },
    {
      "cell_type": "code",
      "source": [
        "# Creating a Zip file to be able to download: \n",
        "!zip -r /content/file_healthy.zip /content/Healthy"
      ],
      "metadata": {
        "id": "b4gkiSL0TeUV"
      },
      "execution_count": null,
      "outputs": []
    },
    {
      "cell_type": "markdown",
      "source": [
        "### Done! :)\n"
      ],
      "metadata": {
        "id": "ODkMssynUVWh"
      }
    }
  ]
}